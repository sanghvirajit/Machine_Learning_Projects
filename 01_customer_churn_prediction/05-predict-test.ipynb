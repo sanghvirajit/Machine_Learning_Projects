{
 "cells": [
  {
   "cell_type": "code",
   "execution_count": 39,
   "metadata": {},
   "outputs": [],
   "source": [
    "import requests"
   ]
  },
  {
   "cell_type": "code",
   "execution_count": 49,
   "metadata": {},
   "outputs": [],
   "source": [
    "url = 'http://localhost:9696/predict'"
   ]
  },
  {
   "cell_type": "code",
   "execution_count": 50,
   "metadata": {},
   "outputs": [],
   "source": [
    "customer = {\n",
    "    \"customerid\": \"8879-zkjof\",\n",
    "    \"gender\": \"female\",\n",
    "    \"seniorcitizen\": 0,\n",
    "    \"partner\": \"no\",\n",
    "    \"dependents\": \"no\",\n",
    "    \"tenure\": 41,\n",
    "    \"phoneservice\": \"yes\",\n",
    "    \"multiplelines\": \"no\",\n",
    "    \"internetservice\": \"dsl\",\n",
    "    \"onlinesecurity\": \"yes\",\n",
    "    \"onlinebackup\": \"no\",\n",
    "    \"deviceprotection\": \"yes\",\n",
    "    \"techsupport\": \"yes\",\n",
    "    \"streamingtv\": \"yes\",\n",
    "    \"streamingmovies\": \"yes\",\n",
    "    \"contract\": \"one_year\",\n",
    "    \"paperlessbilling\": \"yes\",\n",
    "    \"paymentmethod\": \"bank_transfer_(automatic)\",\n",
    "    \"monthlycharges\": 79.85,\n",
    "    \"totalcharges\": 3320.75\n",
    "}"
   ]
  },
  {
   "cell_type": "code",
   "execution_count": 51,
   "metadata": {},
   "outputs": [
    {
     "data": {
      "text/plain": [
       "{'contract': 'one_year',\n",
       " 'customerid': '8879-zkjof',\n",
       " 'dependents': 'no',\n",
       " 'deviceprotection': 'yes',\n",
       " 'gender': 'female',\n",
       " 'internetservice': 'dsl',\n",
       " 'monthlycharges': 79.85,\n",
       " 'multiplelines': 'no',\n",
       " 'onlinebackup': 'no',\n",
       " 'onlinesecurity': 'yes',\n",
       " 'paperlessbilling': 'yes',\n",
       " 'partner': 'no',\n",
       " 'paymentmethod': 'bank_transfer_(automatic)',\n",
       " 'phoneservice': 'yes',\n",
       " 'seniorcitizen': 0,\n",
       " 'streamingmovies': 'yes',\n",
       " 'streamingtv': 'yes',\n",
       " 'techsupport': 'yes',\n",
       " 'tenure': 41,\n",
       " 'totalcharges': 3320.75}"
      ]
     },
     "execution_count": 51,
     "metadata": {},
     "output_type": "execute_result"
    }
   ],
   "source": [
    "customer"
   ]
  },
  {
   "cell_type": "code",
   "execution_count": 53,
   "metadata": {},
   "outputs": [
    {
     "data": {
      "text/plain": [
       "{'churn': False, 'churn_probability': 0.059605672801886625}"
      ]
     },
     "execution_count": 53,
     "metadata": {},
     "output_type": "execute_result"
    }
   ],
   "source": [
    "response = requests.post(url, json=customer).json()\n",
    "response"
   ]
  },
  {
   "cell_type": "code",
   "execution_count": 56,
   "metadata": {},
   "outputs": [],
   "source": [
    "if response['churn'] == True:\n",
    "    print(\"sending promo email to customer id\" )"
   ]
  },
  {
   "cell_type": "code",
   "execution_count": null,
   "metadata": {},
   "outputs": [],
   "source": []
  }
 ],
 "metadata": {
  "kernelspec": {
   "display_name": "Python 3",
   "language": "python",
   "name": "python3"
  },
  "language_info": {
   "codemirror_mode": {
    "name": "ipython",
    "version": 3
   },
   "file_extension": ".py",
   "mimetype": "text/x-python",
   "name": "python",
   "nbconvert_exporter": "python",
   "pygments_lexer": "ipython3",
   "version": "3.6.4"
  }
 },
 "nbformat": 4,
 "nbformat_minor": 2
}
